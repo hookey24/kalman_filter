{
 "cells": [
  {
   "cell_type": "code",
   "execution_count": 533,
   "metadata": {},
   "outputs": [],
   "source": [
    "import numpy as np\n",
    "import matplotlib.pyplot as plt\n",
    "import scipy as sp\n"
   ]
  },
  {
   "cell_type": "code",
   "execution_count": 534,
   "metadata": {},
   "outputs": [],
   "source": [
    "\n",
    "\n",
    "number_of_points = 10000\n",
    "domain_start = 0\n",
    "domain_end = 100\n",
    "\n",
    "time = np.linspace(domain_start, domain_end, number_of_points)\n",
    "\n",
    "\n",
    "freq = 4\n",
    "om = freq * 2 * np.pi\n",
    "\n",
    "poly_speed = np.polyfit(np.linspace(domain_start, domain_end, 6), [0.5, 0.5, 0.5, 0.5, 0.5, 0.5], deg=0)\n",
    "poly_turn = np.polyint(poly_speed, k=2)\n",
    "poly_acceleration = np.polyder(poly_speed)\n",
    "\n",
    "\n",
    "smooth_speed = np.polyval(poly_speed, time)\n",
    "smooth_turn = np.mod(np.polyval(poly_turn, time), 2*np.pi)\n",
    "smooth_accelrateion = np.polyval(poly_acceleration, time)\n",
    "\n"
   ]
  },
  {
   "cell_type": "code",
   "execution_count": 535,
   "metadata": {},
   "outputs": [
    {
     "data": {
      "text/plain": [
       "[<matplotlib.lines.Line2D at 0x7b2f0b8943d0>]"
      ]
     },
     "execution_count": 535,
     "metadata": {},
     "output_type": "execute_result"
    },
    {
     "data": {
      "image/png": "[encoded data removed]",
      "text/plain": [
       "<Figure size 640x480 with 1 Axes>"
      ]
     },
     "metadata": {},
     "output_type": "display_data"
    }
   ],
   "source": [
    "plt.plot(time, smooth_speed)"
   ]
  },
  {
   "cell_type": "code",
   "execution_count": 536,
   "metadata": {},
   "outputs": [],
   "source": [
    "a = 2\n",
    "b = 0.5\n",
    "c = -0.2\n",
    "d = 2\n",
    "e = -0.3\n",
    "\n",
    "ripples = (a + b * np.exp(c * smooth_speed)) * np.sin(om * smooth_turn + d + e*smooth_speed)"
   ]
  },
  {
   "cell_type": "code",
   "execution_count": 537,
   "metadata": {},
   "outputs": [
    {
     "data": {
      "text/plain": [
       "[<matplotlib.lines.Line2D at 0x7b2f0b906950>]"
      ]
     },
     "execution_count": 537,
     "metadata": {},
     "output_type": "execute_result"
    },
    {
     "data": {
      "image/png": "[encoded data removed]",
      "text/plain": [
       "<Figure size 640x480 with 1 Axes>"
      ]
     },
     "metadata": {},
     "output_type": "display_data"
    }
   ],
   "source": [
    "plt.plot(time, ripples)"
   ]
  },
  {
   "cell_type": "code",
   "execution_count": 538,
   "metadata": {},
   "outputs": [
    {
     "data": {
      "text/plain": [
       "0.8790049497819681"
      ]
     },
     "execution_count": 538,
     "metadata": {},
     "output_type": "execute_result"
    }
   ],
   "source": [
    "sp.integrate.simpson( y=ripples, x=time)"
   ]
  },
  {
   "cell_type": "code",
   "execution_count": 539,
   "metadata": {},
   "outputs": [
    {
     "data": {
      "text/plain": [
       "0.00879004949781968"
      ]
     },
     "execution_count": 539,
     "metadata": {},
     "output_type": "execute_result"
    }
   ],
   "source": [
    "P = domain_end - domain_start\n",
    "A0 = 1/(domain_end - domain_start) * sp.integrate.simpson(x=time, y=ripples)\n",
    "\n",
    "A0"
   ]
  },
  {
   "cell_type": "code",
   "execution_count": 540,
   "metadata": {},
   "outputs": [
    {
     "data": {
      "text/plain": [
       "(-0.001396886119139374, -1.5140743890692454e-05)"
      ]
     },
     "execution_count": 540,
     "metadata": {},
     "output_type": "execute_result"
    }
   ],
   "source": [
    "\n",
    "A1 = 2/P * sp.integrate.simpson(x=time, y=ripples*np.cos(2*np.pi * 1/P * time))\n",
    "B1 = 2/P * sp.integrate.simpson(x=time, y=ripples*np.sin(2*np.pi * 1/P * time))\n",
    "A1, B1"
   ]
  },
  {
   "cell_type": "code",
   "execution_count": 541,
   "metadata": {},
   "outputs": [
    {
     "data": {
      "text/plain": [
       "(-0.0011529925748531315, 8.67778794450974e-05)"
      ]
     },
     "execution_count": 541,
     "metadata": {},
     "output_type": "execute_result"
    }
   ],
   "source": [
    "A2 = 2/P * sp.integrate.simpson(x=time, y=ripples*np.cos(2*np.pi * 2/P * time))\n",
    "B2 = 2/P * sp.integrate.simpson(x=time, y=ripples*np.sin(2*np.pi * 2/P * time))\n",
    "A2, B2"
   ]
  },
  {
   "cell_type": "code",
   "execution_count": 542,
   "metadata": {},
   "outputs": [
    {
     "data": {
      "text/plain": [
       "(-0.001373520960733012, 4.470086166038793e-05)"
      ]
     },
     "execution_count": 542,
     "metadata": {},
     "output_type": "execute_result"
    }
   ],
   "source": [
    "A3 = 2/P * sp.integrate.simpson(x=time, y=ripples*np.cos(2*np.pi * 3/P * time))\n",
    "B3 = 2/P * sp.integrate.simpson(x=time, y=ripples*np.sin(2*np.pi * 3/P * time))\n",
    "A3, B3"
   ]
  },
  {
   "cell_type": "code",
   "execution_count": 543,
   "metadata": {},
   "outputs": [
    {
     "data": {
      "text/plain": [
       "(-0.0016756698884201422, 0.0005080296563071789)"
      ]
     },
     "execution_count": 543,
     "metadata": {},
     "output_type": "execute_result"
    }
   ],
   "source": [
    "A4 = 2/P * sp.integrate.simpson(x=time, y=ripples*np.cos(2*np.pi * 4/P * time))\n",
    "B4 = 2/P * sp.integrate.simpson(x=time, y=ripples*np.sin(2*np.pi * 4/P * time))\n",
    "A4, B4"
   ]
  },
  {
   "cell_type": "code",
   "execution_count": 544,
   "metadata": {},
   "outputs": [
    {
     "data": {
      "text/plain": [
       "(-0.0013462943218222046, 0.0001625820449447615)"
      ]
     },
     "execution_count": 544,
     "metadata": {},
     "output_type": "execute_result"
    }
   ],
   "source": [
    "A5 = 2/P * sp.integrate.simpson(x=time, y=ripples*np.cos(2*np.pi * 5/P * time))\n",
    "B5 = 2/P * sp.integrate.simpson(x=time, y=ripples*np.sin(2*np.pi * 5/P * time))\n",
    "A5, B5"
   ]
  },
  {
   "cell_type": "code",
   "execution_count": 545,
   "metadata": {},
   "outputs": [
    {
     "data": {
      "text/plain": [
       "(-0.0014277261378567263, 6.987551973452219e-05)"
      ]
     },
     "execution_count": 545,
     "metadata": {},
     "output_type": "execute_result"
    }
   ],
   "source": [
    "A6 = 2/P * sp.integrate.simpson(x=time, y=ripples*np.cos(2*np.pi * 6/P * time))\n",
    "B6 = 2/P * sp.integrate.simpson(x=time, y=ripples*np.sin(2*np.pi * 6/P * time))\n",
    "A6, B6"
   ]
  },
  {
   "cell_type": "code",
   "execution_count": 546,
   "metadata": {},
   "outputs": [],
   "source": [
    "def cos_coef(x, y, n, domain_length):\n",
    "    return 2/P * sp.integrate.simpson(x=x, y=y*np.cos(2*np.pi * n/domain_length * x))\n",
    "\n",
    "def sin_coef(x, y, n, domain_length):\n",
    "    return 2/P * sp.integrate.simpson(x=x, y=y*np.sin(2*np.pi * n/domain_length * x))\n",
    "\n",
    "def fourier(x, y, domain_length, number_of_terms):\n",
    "    A0 = 1/domain_length * sp.integrate.simpson(x=x, y=y)\n",
    "    \n",
    "    return A0 + np.sum(list(map(lambda term: cos_coef(x, y, term, domain_length) * np.cos(2*np.pi * term/domain_length * x) + \n",
    "                                    sin_coef(x, y, term, domain_length) * np.sin(2*np.pi * term/domain_length * x), range(1,number_of_terms+1))), axis=0)\n",
    "    \n",
    "    \n",
    "def fourier_double_int(x, y, domain_length, number_of_terms):\n",
    "    A0 = 1/domain_length * sp.integrate.simpson(x=x, y=y)\n",
    "    \n",
    "    return A0 + np.sum(list(map(lambda term: cos_coef(x, y, term, domain_length)* (domain_length/2/np.pi / term)**2 * -np.cos(2*np.pi * term/domain_length * x) + \n",
    "                                    sin_coef(x, y, term, domain_length) * (domain_length/2/np.pi / term)**2 * -np.sin(2*np.pi * term/domain_length * x), range(1,number_of_terms+1))), axis=0)"
   ]
  },
  {
   "cell_type": "code",
   "execution_count": 547,
   "metadata": {},
   "outputs": [],
   "source": [
    "ripple_estimation = A0 + \\\n",
    "    A1 * np.cos(2*np.pi * 1/P * time) + B1 * np.sin(2*np.pi * 1/P * time) + \\\n",
    "    A2 * np.cos(2*np.pi * 2/P * time) + B2 * np.sin(2*np.pi * 2/P * time) + \\\n",
    "    A3 * np.cos(2*np.pi * 3/P * time) + B3 * np.sin(2*np.pi * 3/P * time) + \\\n",
    "    A4 * np.cos(2*np.pi * 4/P * time) + B4 * np.sin(2*np.pi * 4/P * time) + \\\n",
    "    A5 * np.cos(2*np.pi * 5/P * time) + B5 * np.sin(2*np.pi * 5/P * time) + \\\n",
    "    A6 * np.cos(2*np.pi * 6/P * time) + B6 * np.sin(2*np.pi * 6/P * time)"
   ]
  },
  {
   "cell_type": "code",
   "execution_count": 548,
   "metadata": {},
   "outputs": [
    {
     "data": {
      "text/plain": [
       "array([-0.04410021, -0.04381577, -0.04352729, ..., -0.04465667,\n",
       "       -0.04438054, -0.04410021])"
      ]
     },
     "execution_count": 548,
     "metadata": {},
     "output_type": "execute_result"
    }
   ],
   "source": [
    "ripple_estimation = fourier(time, ripples, P, 30)\n",
    "ripple_estimation"
   ]
  },
  {
   "cell_type": "code",
   "execution_count": 549,
   "metadata": {},
   "outputs": [
    {
     "data": {
      "text/plain": [
       "array([0.603927  , 0.60445365, 0.60511153, ..., 0.60328612, 0.60353692,\n",
       "       0.603927  ])"
      ]
     },
     "execution_count": 549,
     "metadata": {},
     "output_type": "execute_result"
    }
   ],
   "source": [
    "Iq_ripple = fourier_double_int(time, ripples, P, 200)\n",
    "Iq_ripple"
   ]
  },
  {
   "cell_type": "code",
   "execution_count": 550,
   "metadata": {},
   "outputs": [
    {
     "data": {
      "text/plain": [
       "<matplotlib.legend.Legend at 0x7b2f0b974b50>"
      ]
     },
     "execution_count": 550,
     "metadata": {},
     "output_type": "execute_result"
    },
    {
     "data": {
      "image/png": "[encoded data removed]",
      "text/plain": [
       "<Figure size 640x480 with 1 Axes>"
      ]
     },
     "metadata": {},
     "output_type": "display_data"
    }
   ],
   "source": [
    "#plt.plot(time, ripples, label=\"ripples\")\n",
    "#plt.plot(time, ripple_estimation, label=\"ripple_estimation\")\n",
    "plt.plot(time, Iq_ripple, label=\"Iq_ripple\")\n",
    "plt.legend()"
   ]
  },
  {
   "cell_type": "code",
   "execution_count": null,
   "metadata": {},
   "outputs": [],
   "source": []
  }
 ],
 "metadata": {
  "kernelspec": {
   "display_name": "venv",
   "language": "python",
   "name": "python3"
  },
  "language_info": {
   "codemirror_mode": {
    "name": "ipython",
    "version": 3
   },
   "file_extension": ".py",
   "mimetype": "text/x-python",
   "name": "python",
   "nbconvert_exporter": "python",
   "pygments_lexer": "ipython3",
   "version": "3.11.2"
  }
 },
 "nbformat": 4,
 "nbformat_minor": 2
}
